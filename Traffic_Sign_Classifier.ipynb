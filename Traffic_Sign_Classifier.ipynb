{
 "cells": [
  {
   "cell_type": "markdown",
   "metadata": {},
   "source": [
    "# Self-Driving Car Engineer Nanodegree\n",
    "\n",
    "## Deep Learning\n",
    "\n",
    "## Project: Build a Traffic Sign Recognition Classifier\n",
    "\n",
    "In this notebook, a template is provided for you to implement your functionality in stages, which is required to successfully complete this project. If additional code is required that cannot be included in the notebook, be sure that the Python code is successfully imported and included in your submission if necessary. \n",
    "\n",
    "> **Note**: Once you have completed all of the code implementations, you need to finalize your work by exporting the iPython Notebook as an HTML document. Before exporting the notebook to html, all of the code cells need to have been run so that reviewers can see the final implementation and output. You can then export the notebook by using the menu above and navigating to  \\n\",\n",
    "    \"**File -> Download as -> HTML (.html)**. Include the finished document along with this notebook as your submission. \n",
    "\n",
    "In addition to implementing code, there is a writeup to complete. The writeup should be completed in a separate file, which can be either a markdown file or a pdf document. There is a [write up template](https://github.com/udacity/CarND-Traffic-Sign-Classifier-Project/blob/master/writeup_template.md) that can be used to guide the writing process. Completing the code template and writeup template will cover all of the [rubric points](https://review.udacity.com/#!/rubrics/481/view) for this project.\n",
    "\n",
    "The [rubric](https://review.udacity.com/#!/rubrics/481/view) contains \"Stand Out Suggestions\" for enhancing the project beyond the minimum requirements. The stand out suggestions are optional. If you decide to pursue the \"stand out suggestions\", you can include the code in this Ipython notebook and also discuss the results in the writeup file.\n",
    "\n",
    "\n",
    ">**Note:** Code and Markdown cells can be executed using the **Shift + Enter** keyboard shortcut. In addition, Markdown cells can be edited by typically double-clicking the cell to enter edit mode."
   ]
  },
  {
   "cell_type": "markdown",
   "metadata": {},
   "source": [
    "---\n",
    "## Step 0: Load The Data"
   ]
  },
  {
   "cell_type": "code",
   "execution_count": 72,
   "metadata": {
    "collapsed": true
   },
   "outputs": [],
   "source": [
    "# Load pickled data\n",
    "import pickle\n",
    "\n",
    "training_file = 'traffic-signs-data/train.p'\n",
    "validation_file= 'traffic-signs-data/valid.p'\n",
    "testing_file = 'traffic-signs-data/test.p'\n",
    "\n",
    "with open(training_file, mode='rb') as f:\n",
    "    train = pickle.load(f)\n",
    "with open(validation_file, mode='rb') as f:\n",
    "    valid = pickle.load(f)\n",
    "with open(testing_file, mode='rb') as f:\n",
    "    test = pickle.load(f)\n",
    "    \n",
    "X_train, y_train = train['features'], train['labels']\n",
    "X_valid, y_valid = valid['features'], valid['labels']\n",
    "X_test, y_test = test['features'], test['labels']"
   ]
  },
  {
   "cell_type": "markdown",
   "metadata": {},
   "source": [
    "---\n",
    "\n",
    "## Step 1: Dataset Summary & Exploration\n",
    "\n",
    "The pickled data is a dictionary with 4 key/value pairs:\n",
    "\n",
    "- `'features'` is a 4D array containing raw pixel data of the traffic sign images, (num examples, width, height, channels).\n",
    "- `'labels'` is a 1D array containing the label/class id of the traffic sign. The file `signnames.csv` contains id -> name mappings for each id.\n",
    "- `'sizes'` is a list containing tuples, (width, height) representing the original width and height the image.\n",
    "- `'coords'` is a list containing tuples, (x1, y1, x2, y2) representing coordinates of a bounding box around the sign in the image. **THESE COORDINATES ASSUME THE ORIGINAL IMAGE. THE PICKLED DATA CONTAINS RESIZED VERSIONS (32 by 32) OF THESE IMAGES**\n",
    "\n",
    "Complete the basic data summary below. Use python, numpy and/or pandas methods to calculate the data summary rather than hard coding the results. For example, the [pandas shape method](http://pandas.pydata.org/pandas-docs/stable/generated/pandas.DataFrame.shape.html) might be useful for calculating some of the summary results. "
   ]
  },
  {
   "cell_type": "markdown",
   "metadata": {},
   "source": [
    "### Provide a Basic Summary of the Data Set Using Python, Numpy and/or Pandas"
   ]
  },
  {
   "cell_type": "code",
   "execution_count": 73,
   "metadata": {},
   "outputs": [
    {
     "name": "stdout",
     "output_type": "stream",
     "text": [
      "Number of training examples = 34799\n",
      "Number of validation examples = 4410\n",
      "Number of testing examples = 12630\n",
      "Image data shape = [32, 32, 3]\n",
      "Number of classes = 43\n"
     ]
    }
   ],
   "source": [
    "n_train = X_train.shape[0]\n",
    "\n",
    "n_validation = X_valid.shape[0]\n",
    "\n",
    "n_test = X_test.shape[0]\n",
    "\n",
    "image_shape = [32,32,3]\n",
    "\n",
    "n_classes = 43\n",
    "\n",
    "print(\"Number of training examples =\", n_train)\n",
    "print(\"Number of validation examples =\", n_validation)\n",
    "print(\"Number of testing examples =\", n_test)\n",
    "print(\"Image data shape =\", image_shape)\n",
    "print(\"Number of classes =\", n_classes)"
   ]
  },
  {
   "cell_type": "markdown",
   "metadata": {},
   "source": [
    "### Dataset Exploratory Visualization"
   ]
  },
  {
   "cell_type": "code",
   "execution_count": 74,
   "metadata": {},
   "outputs": [
    {
     "name": "stdout",
     "output_type": "stream",
     "text": [
      "10\n"
     ]
    },
    {
     "data": {
      "image/png": "[encoded data removed]",
      "text/plain": [
       "<matplotlib.figure.Figure at 0x7fa1a86d7898>"
      ]
     },
     "metadata": {},
     "output_type": "display_data"
    }
   ],
   "source": [
    "import random\n",
    "import matplotlib.pyplot as plt\n",
    "# Visualizations will be shown in the notebook.\n",
    "%matplotlib inline\n",
    "\n",
    "index = random.randint(0, len(X_train))\n",
    "image = X_train[index].squeeze()\n",
    "plt.figure(figsize=(1,1))\n",
    "plt.imshow(image)\n",
    "print(y_train[index])"
   ]
  },
  {
   "cell_type": "code",
   "execution_count": 75,
   "metadata": {},
   "outputs": [
    {
     "name": "stdout",
     "output_type": "stream",
     "text": [
      "Dataset Exploratory Visualization\n"
     ]
    },
    {
     "data": {
      "image/png": "[encoded data removed]",
      "text/plain": [
       "<matplotlib.figure.Figure at 0x7fa13026b438>"
      ]
     },
     "metadata": {},
     "output_type": "display_data"
    }
   ],
   "source": [
    "print(\"Dataset Exploratory Visualization\")\n",
    "plt.figure()\n",
    "plt.hist(y_train)\n",
    "plt.savefig('examples/plot_hist.png')"
   ]
  },
  {
   "cell_type": "markdown",
   "metadata": {},
   "source": [
    "----\n",
    "\n",
    "## Step 2: Design and Test a Model Architecture\n",
    "\n",
    "Design and implement a deep learning model that learns to recognize traffic signs. Train and test your model on the [German Traffic Sign Dataset](http://benchmark.ini.rub.de/?section=gtsrb&subsection=dataset).\n",
    "\n",
    "The LeNet-5 implementation shown in the [classroom](https://classroom.udacity.com/nanodegrees/nd013/parts/fbf77062-5703-404e-b60c-95b78b2f3f9e/modules/6df7ae49-c61c-4bb2-a23e-6527e69209ec/lessons/601ae704-1035-4287-8b11-e2c2716217ad/concepts/d4aca031-508f-4e0b-b493-e7b706120f81) at the end of the CNN lesson is a solid starting point. You'll have to change the number of classes and possibly the preprocessing, but aside from that it's plug and play! \n",
    "\n",
    "With the LeNet-5 solution from the lecture, you should expect a validation set accuracy of about 0.89. To meet specifications, the validation set accuracy will need to be at least 0.93. It is possible to get an even higher accuracy, but 0.93 is the minimum for a successful project submission. \n",
    "\n",
    "There are various aspects to consider when thinking about this problem:\n",
    "\n",
    "- Neural network architecture (is the network over or underfitting?)\n",
    "- Play around preprocessing techniques (normalization, rgb to grayscale, etc)\n",
    "- Number of examples per label (some have more than others).\n",
    "- Generate fake data.\n",
    "\n",
    "Here is an example of a [published baseline model on this problem](http://yann.lecun.com/exdb/publis/pdf/sermanet-ijcnn-11.pdf). It's not required to be familiar with the approach used in the paper but, it's good practice to try to read papers like these."
   ]
  },
  {
   "cell_type": "markdown",
   "metadata": {},
   "source": [
    "### Model Architecture"
   ]
  },
  {
   "cell_type": "markdown",
   "metadata": {},
   "source": [
    "### Preprocessing and Augmentation "
   ]
  },
  {
   "cell_type": "code",
   "execution_count": 76,
   "metadata": {},
   "outputs": [
    {
     "data": {
      "image/png": "[encoded data removed]",
      "text/plain": [
       "<matplotlib.figure.Figure at 0x7fa130290a58>"
      ]
     },
     "metadata": {},
     "output_type": "display_data"
    },
    {
     "data": {
      "image/png": "[encoded data removed]",
      "text/plain": [
       "<matplotlib.figure.Figure at 0x7fa1302856a0>"
      ]
     },
     "metadata": {},
     "output_type": "display_data"
    },
    {
     "data": {
      "image/png": "[encoded data removed]",
      "text/plain": [
       "<matplotlib.figure.Figure at 0x7fa130171e80>"
      ]
     },
     "metadata": {},
     "output_type": "display_data"
    },
    {
     "data": {
      "image/png": "[encoded data removed]",
      "text/plain": [
       "<matplotlib.figure.Figure at 0x7fa1303e5160>"
      ]
     },
     "metadata": {},
     "output_type": "display_data"
    }
   ],
   "source": [
    "from sklearn.utils import shuffle\n",
    "import matplotlib.pyplot as plt\n",
    "import cv2\n",
    "import numpy as np\n",
    "\n",
    "# Convert the data to Grayscale\n",
    "# Apply Contrast Limited Adaptive Histogram Equalization.\n",
    "# Apply Input Data Normalization\n",
    "def preprocess(x):\n",
    "    n = len(x)\n",
    "    x_gray = np.zeros((n,32,32),dtype=np.uint8)\n",
    "    \n",
    "    clahe = cv2.createCLAHE(clipLimit=2.0, tileGridSize=(8,8))\n",
    "    \n",
    "    for i in range(n):\n",
    "        x_gray[i] = cv2.cvtColor(x[i], cv2.COLOR_RGB2GRAY)\n",
    "        x_gray[i] = clahe.apply(x_gray[i])\n",
    "        \n",
    "    x_gray = x_gray.reshape(n,32,32,1)\n",
    "    x_gray = ((x_gray/255.0) - 0.5)\n",
    "    \n",
    "    return x_gray\n",
    "\n",
    "# Create rotated images and add them to the training set\n",
    "def transform_data(x,y, index):\n",
    "    n = len(x)\n",
    "\n",
    "    x_trans_1 = np.zeros((n,32,32),dtype=np.float32)\n",
    "    x_trans_2 = np.zeros((n,32,32),dtype=np.float32)\n",
    "    \n",
    "    M1 = cv2.getRotationMatrix2D((16,16),20,1)\n",
    "    \n",
    "    M2 = cv2.getRotationMatrix2D((16,16),-20,1)\n",
    "    \n",
    "    for i in range(n):\n",
    "        x_trans_1[i] = cv2.warpAffine(x[i],M1,(32,32))\n",
    "        x_trans_2[i] = cv2.warpAffine(x[i],M2,(32,32))\n",
    "        \n",
    "    image_rotate_ccw_20 = x_trans_1[index].squeeze()\n",
    "    image_rotate_cw_20 = x_trans_2[index].squeeze()\n",
    "    plt.figure(figsize=(2,2))\n",
    "    plt.imshow(image_rotate_cw_20,cmap='gray')\n",
    "    plt.savefig('examples/dataset_ro_after_cw.png')\n",
    "    plt.figure(figsize=(2,2))\n",
    "    plt.imshow(image_rotate_ccw_20,cmap='gray')\n",
    "    plt.savefig('examples/dataset_ro_after_ccw.png')\n",
    "\n",
    "    x_trans_1 = x_trans_1.reshape(n,32,32,1)\n",
    "    x_trans_2 = x_trans_2.reshape(n,32,32,1)\n",
    "    \n",
    "    x_output = np.concatenate((np.concatenate((x,x_trans_1), axis = 0),x_trans_2), axis = 0)\n",
    "    y_output = np.append(np.append(y,y),y)\n",
    "\n",
    "    return (x_output,y_output)\n",
    "\n",
    "# Shuffle data for better reliability\n",
    "X_train, y_train = shuffle(X_train, y_train)\n",
    "\n",
    "X_train_pre = preprocess(X_train)\n",
    "X_valid_pre = preprocess(X_valid)\n",
    "X_test_pre = preprocess(X_test)\n",
    "\n",
    "index = random.randint(0, len(X_train))\n",
    "image_before = X_train[index].squeeze()\n",
    "image_after = X_train_pre[index].squeeze()\n",
    "plt.figure(figsize=(2,2))\n",
    "plt.imshow(image_before)\n",
    "plt.savefig('examples/dataset_ex_before.png')\n",
    "plt.figure(figsize=(2,2))\n",
    "plt.imshow(image_after,cmap='gray')\n",
    "plt.savefig('examples/dataset_ex_After.png')\n",
    "\n",
    "X_train_pre, y_train_pre = transform_data(X_train_pre, y_train, index)\n"
   ]
  },
  {
   "cell_type": "code",
   "execution_count": 99,
   "metadata": {
    "collapsed": true
   },
   "outputs": [],
   "source": [
    "import tensorflow as tf\n",
    "\n",
    "EPOCHS = 10\n",
    "BATCH_SIZE = 150"
   ]
  },
  {
   "cell_type": "markdown",
   "metadata": {},
   "source": [
    "### Train, Validate and Test the Model"
   ]
  },
  {
   "cell_type": "markdown",
   "metadata": {},
   "source": [
    "A validation set can be used to assess how well the model is performing. A low accuracy on the training and validation\n",
    "sets imply underfitting. A high accuracy on the training set but low accuracy on the validation set implies overfitting."
   ]
  },
  {
   "cell_type": "markdown",
   "metadata": {},
   "source": [
    "### LeNet Function"
   ]
  },
  {
   "cell_type": "code",
   "execution_count": 100,
   "metadata": {
    "collapsed": true
   },
   "outputs": [],
   "source": [
    "from tensorflow.contrib.layers import flatten\n",
    "\n",
    "def LeNet(x):    \n",
    "    # Arguments used for tf.truncated_normal, randomly defines variables for the weights and biases for each layer\n",
    "    mu = 0\n",
    "    sigma = 0.1\n",
    "    \n",
    "    # TODO: Layer 1: Convolutional. Input = 32x32x1. Output = 28x28x10.\n",
    "    WC1 = tf.Variable(tf.truncated_normal(shape = (5,5,1,10), mean = mu, stddev = sigma))\n",
    "    BC1 = tf.Variable(tf.zeros([10]))\n",
    "    strides = [1,1,1,1]\n",
    "    padding = 'VALID'\n",
    "    conv1 = tf.nn.conv2d(x,WC1,strides,padding)\n",
    "    conv1 = tf.nn.bias_add(conv1,BC1, name = 'Conv_1')\n",
    "    \n",
    "    # TODO: Pooling. Input = 28x28x10. Output = 14x14x10.\n",
    "    conv1 = tf.nn.max_pool(conv1, ksize = [1,2,2,1], strides = [1,2,2,1] , padding = 'SAME')\n",
    "    \n",
    "    # TODO: Activation.\n",
    "    conv1 = tf.nn.relu(conv1)\n",
    "    \n",
    "    # TODO: Layer 2: Convolutional. Output = 10x10x22.\n",
    "    WC2 = tf.Variable(tf.truncated_normal(shape = (5,5,10,22), mean = mu, stddev = sigma))\n",
    "    BC2 = tf.Variable(tf.zeros([22]))\n",
    "    strides = [1,1,1,1]\n",
    "    padding = 'VALID'\n",
    "    conv2 = tf.nn.conv2d(conv1, WC2, strides, padding)\n",
    "    conv2 = tf.nn.bias_add(conv2, BC2, name = 'Conv_2')\n",
    "    \n",
    "    # TODO: Pooling. Input = 10x10x22. Output = 5x5x22.\n",
    "    conv2 = tf.nn.max_pool(conv2, ksize = [1,2,2,1], strides = [1,2,2,1], padding = 'SAME')\n",
    "    \n",
    "    # TODO: Activation.\n",
    "    conv2 = tf.nn.relu(conv2)\n",
    "\n",
    "    # TODO: Flatten. Input = 5x5x22. Output = 550.\n",
    "    conv_output = tf.contrib.layers.flatten(conv2)\n",
    "    \n",
    "    # TODO: Layer 3: Fully Connected. Input = 550. Output = 350.\n",
    "    WF1 = tf.Variable(tf.truncated_normal(shape = (550,350), mean = mu, stddev = sigma))\n",
    "    BF1 = tf.Variable(tf.zeros([350]))\n",
    "    FC1 = tf.matmul(conv_output,WF1)\n",
    "    FC1 = tf.add(FC1,BF1, name = 'FC1')\n",
    "    \n",
    "    # TODO: Activation.\n",
    "    FC1 = tf.nn.relu(FC1)\n",
    "    FC1 = tf.nn.dropout(FC1,0.8)\n",
    "    \n",
    "    # TODO: Layer 5: Fully Connected. Input = 350. Output = 43.\n",
    "    WF2 = tf.Variable(tf.truncated_normal(shape = (350,43) , mean = mu, stddev = sigma))\n",
    "    BF2 = tf.Variable(tf.zeros([43]))\n",
    "    logits = tf.add(tf.matmul(FC1,WF2),BF2)\n",
    "    \n",
    "    return logits"
   ]
  },
  {
   "cell_type": "markdown",
   "metadata": {},
   "source": [
    "---\n",
    "\n",
    "## Step 3: Test a Model on New Images\n",
    "\n",
    "To give yourself more insight into how your model is working, download at least five pictures of German traffic signs from the web and use your model to predict the traffic sign type.\n",
    "\n",
    "You may find `signnames.csv` useful as it contains mappings from the class id (integer) to the actual sign name."
   ]
  },
  {
   "cell_type": "markdown",
   "metadata": {},
   "source": [
    "# Training Pipeline"
   ]
  },
  {
   "cell_type": "markdown",
   "metadata": {},
   "source": [
    "### Load and Output the Images"
   ]
  },
  {
   "cell_type": "code",
   "execution_count": 101,
   "metadata": {
    "collapsed": true
   },
   "outputs": [],
   "source": [
    "tf.reset_default_graph()\n",
    "x = tf.placeholder(tf.float32, (None, 32, 32, 1))\n",
    "y = tf.placeholder(tf.int32, (None))\n",
    "one_hot_y = tf.one_hot(y, 43)"
   ]
  },
  {
   "cell_type": "markdown",
   "metadata": {},
   "source": [
    "### Model Optimization"
   ]
  },
  {
   "cell_type": "code",
   "execution_count": 102,
   "metadata": {
    "collapsed": true
   },
   "outputs": [],
   "source": [
    "rate = 0.0052\n",
    "\n",
    "logits = LeNet(x)\n",
    "cross_entropy = tf.nn.softmax_cross_entropy_with_logits(labels=one_hot_y, logits=logits)\n",
    "loss_operation = tf.reduce_mean(cross_entropy)\n",
    "optimizer = tf.train.AdamOptimizer(learning_rate = rate)\n",
    "training_operation = optimizer.minimize(loss_operation)"
   ]
  },
  {
   "cell_type": "markdown",
   "metadata": {},
   "source": [
    "### Model Evaluation"
   ]
  },
  {
   "cell_type": "code",
   "execution_count": 103,
   "metadata": {
    "collapsed": true
   },
   "outputs": [],
   "source": [
    "correct_prediction = tf.equal(tf.argmax(logits, 1), tf.argmax(one_hot_y, 1))\n",
    "accuracy_operation = tf.reduce_mean(tf.cast(correct_prediction, tf.float32))\n",
    "saver = tf.train.Saver()\n",
    "\n",
    "def evaluate(X_data, y_data):\n",
    "    num_examples = len(X_data)\n",
    "    total_accuracy = 0\n",
    "    total_loss = 0\n",
    "    sess = tf.get_default_session()\n",
    "    \n",
    "    for offset in range(0, num_examples, BATCH_SIZE):\n",
    "        batch_x, batch_y = X_data[offset:offset+BATCH_SIZE], y_data[offset:offset+BATCH_SIZE]\n",
    "        loss, accuracy = sess.run([loss_operation,accuracy_operation], feed_dict={x: batch_x, y: batch_y})\n",
    "        total_accuracy += (accuracy * len(batch_x))\n",
    "        total_loss += (loss * len(batch_x)) \n",
    "    return (total_loss/ num_examples) , (total_accuracy / num_examples)"
   ]
  },
  {
   "cell_type": "markdown",
   "metadata": {},
   "source": [
    "### Train The Model"
   ]
  },
  {
   "cell_type": "code",
   "execution_count": 104,
   "metadata": {
    "scrolled": true
   },
   "outputs": [
    {
     "name": "stdout",
     "output_type": "stream",
     "text": [
      "Training...\n",
      "\n",
      "EPOCH 1 ...\n",
      "Validation Accuracy = 0.948 Training Accuracy = 0.971\n",
      "\n",
      "EPOCH 2 ...\n",
      "Validation Accuracy = 0.950 Training Accuracy = 0.982\n",
      "\n",
      "EPOCH 3 ...\n",
      "Validation Accuracy = 0.955 Training Accuracy = 0.984\n",
      "\n",
      "EPOCH 4 ...\n",
      "Validation Accuracy = 0.946 Training Accuracy = 0.985\n",
      "\n",
      "EPOCH 5 ...\n",
      "Validation Accuracy = 0.963 Training Accuracy = 0.983\n",
      "\n",
      "EPOCH 6 ...\n",
      "Validation Accuracy = 0.950 Training Accuracy = 0.987\n",
      "\n",
      "EPOCH 7 ...\n",
      "Validation Accuracy = 0.959 Training Accuracy = 0.987\n",
      "\n",
      "EPOCH 8 ...\n",
      "Validation Accuracy = 0.960 Training Accuracy = 0.990\n",
      "\n",
      "EPOCH 9 ...\n",
      "Validation Accuracy = 0.958 Training Accuracy = 0.990\n",
      "\n",
      "EPOCH 10 ...\n",
      "Validation Accuracy = 0.958 Training Accuracy = 0.990\n",
      "\n",
      "Model saved\n"
     ]
    },
    {
     "data": {
      "image/png": "[encoded data removed]",
      "text/plain": [
       "<matplotlib.figure.Figure at 0x7fa1303e65f8>"
      ]
     },
     "metadata": {},
     "output_type": "display_data"
    }
   ],
   "source": [
    "with tf.Session() as sess:\n",
    "    sess.run(tf.global_variables_initializer())\n",
    "    num_examples = len(X_train_pre)\n",
    "    \n",
    "    valid_loss_history = []\n",
    "    train_loss_history = []\n",
    "    \n",
    "    print(\"Training...\")\n",
    "    print()\n",
    "    for i in range(EPOCHS):\n",
    "        X_train_pre, y_train_pre = shuffle(X_train_pre, y_train_pre)\n",
    "        for offset in range(0, num_examples, BATCH_SIZE):\n",
    "            end = offset + BATCH_SIZE\n",
    "            batch_x, batch_y = X_train_pre[offset:end], y_train_pre[offset:end]\n",
    "            sess.run(training_operation, feed_dict={x: batch_x, y: batch_y})\n",
    "            \n",
    "        validation_loss, validation_accuracy = evaluate(X_valid_pre, y_valid)\n",
    "        valid_loss_history.append(validation_loss)\n",
    "        train_loss, train_accuracy = evaluate(X_train_pre, y_train_pre)\n",
    "        train_loss_history.append(train_loss)\n",
    "        \n",
    "        print(\"EPOCH {} ...\".format(i+1))\n",
    "        print(\"Validation Accuracy = {:.3f} Training Accuracy = {:.3f}\".format(validation_accuracy,train_accuracy))\n",
    "        print()\n",
    "        \n",
    "    loss_plot = plt.subplot(2,1,1)\n",
    "    loss_plot.set_title('Loss')\n",
    "    loss_plot.plot(train_loss_history, 'r', label='Training Loss')\n",
    "    loss_plot.plot(valid_loss_history, 'b', label='Validation Loss')\n",
    "    loss_plot.set_xlim([0, EPOCHS])\n",
    "    loss_plot.legend(loc=4)\n",
    "\n",
    "    saver.save(sess, './traffic_sign')\n",
    "    print(\"Model saved\")"
   ]
  },
  {
   "cell_type": "markdown",
   "metadata": {},
   "source": [
    "### Predict the Sign Type for Each Image"
   ]
  },
  {
   "cell_type": "code",
   "execution_count": 105,
   "metadata": {},
   "outputs": [
    {
     "name": "stdout",
     "output_type": "stream",
     "text": [
      "Test Accuracy = 0.942\n"
     ]
    }
   ],
   "source": [
    "with tf.Session() as sess:\n",
    "    saver.restore(sess, tf.train.latest_checkpoint('.'))\n",
    "    \n",
    "    test_loss, test_accuracy = evaluate(X_test_pre, y_test)\n",
    "    print(\"Test Accuracy = {:.3f}\".format(test_accuracy))"
   ]
  },
  {
   "cell_type": "markdown",
   "metadata": {},
   "source": [
    "### Analyze Performance"
   ]
  },
  {
   "cell_type": "code",
   "execution_count": 114,
   "metadata": {},
   "outputs": [
    {
     "name": "stdout",
     "output_type": "stream",
     "text": [
      "1.0\n"
     ]
    },
    {
     "data": {
      "image/png": "[encoded data removed]",
      "text/plain": [
       "<matplotlib.figure.Figure at 0x7fa182f64978>"
      ]
     },
     "metadata": {},
     "output_type": "display_data"
    },
    {
     "data": {
      "image/png": "[encoded data removed]",
      "text/plain": [
       "<matplotlib.figure.Figure at 0x7fa1806f8f60>"
      ]
     },
     "metadata": {},
     "output_type": "display_data"
    },
    {
     "data": {
      "image/png": "[encoded data removed]",
      "text/plain": [
       "<matplotlib.figure.Figure at 0x7fa18081b4a8>"
      ]
     },
     "metadata": {},
     "output_type": "display_data"
    },
    {
     "data": {
      "image/png": "[encoded data removed]",
      "text/plain": [
       "<matplotlib.figure.Figure at 0x7fa1809168d0>"
      ]
     },
     "metadata": {},
     "output_type": "display_data"
    },
    {
     "data": {
      "image/png": "[encoded data removed]",
      "text/plain": [
       "<matplotlib.figure.Figure at 0x7fa1808cc2b0>"
      ]
     },
     "metadata": {},
     "output_type": "display_data"
    }
   ],
   "source": [
    "### Calculate the accuracy for these 5 new images. \n",
    "import cv2\n",
    "import os, random\n",
    "\n",
    "test_DE_dir = \"GTSRB_Training/Final_Training/Images/\"\n",
    "\n",
    "X_DE_test = []\n",
    "Y_DE_test = []\n",
    "\n",
    "for index in range(5):\n",
    "    foldername = random.choice(os.listdir(test_DE_dir))\n",
    "    folder_path = os.path.join(test_DE_dir, foldername)\n",
    "    filename = random.choice(os.listdir(folder_path))\n",
    "    img = cv2.imread(os.path.join(folder_path,filename))\n",
    "    if img is not None:\n",
    "        img = cv2.resize(img, (32, 32))\n",
    "        X_DE_test.append(img)\n",
    "        class_id = foldername.replace(\"0\",\"\");\n",
    "        if(class_id == \"\"):\n",
    "            class_id = \"0\"\n",
    "        Y_DE_test.append(int(class_id))\n",
    "\n",
    "X_DE_test = preprocess(X_DE_test)\n",
    "\n",
    "for index in range(5):\n",
    "    img = X_DE_test[index].squeeze()\n",
    "    plt.figure(figsize=(2,2))\n",
    "    plt.imshow(img,cmap='gray')\n",
    "    f_path = \"examples/DE_image\" + str(index) + \".png\"\n",
    "    plt.savefig(f_path)\n",
    "\n",
    "with tf.Session() as sess:\n",
    "    saver.restore(sess, tf.train.latest_checkpoint('.'))\n",
    "    test_loss, test_accuracy = evaluate(X_DE_test, Y_DE_test)\n",
    "    print(test_accuracy)\n",
    "    "
   ]
  },
  {
   "cell_type": "markdown",
   "metadata": {},
   "source": [
    "### Output Top 5 Softmax Probabilities For Each Image Found on the Web"
   ]
  },
  {
   "cell_type": "markdown",
   "metadata": {},
   "source": [
    "For each of the new images, print out the model's softmax probabilities to show the **certainty** of the model's predictions (limit the output to the top 5 probabilities for each image). [`tf.nn.top_k`](https://www.tensorflow.org/versions/r0.12/api_docs/python/nn.html#top_k) could prove helpful here. "
   ]
  },
  {
   "cell_type": "code",
   "execution_count": 115,
   "metadata": {},
   "outputs": [
    {
     "name": "stdout",
     "output_type": "stream",
     "text": [
      "Speed limit (50km/h)\n"
     ]
    }
   ],
   "source": [
    "import pandas as pd\n",
    "signnames = pd.read_csv('signnames.csv')\n",
    "\n",
    "#test\n",
    "print(signnames.iat[2,1])"
   ]
  },
  {
   "cell_type": "code",
   "execution_count": 116,
   "metadata": {
    "scrolled": true
   },
   "outputs": [
    {
     "name": "stdout",
     "output_type": "stream",
     "text": [
      "1) Real: Speed limit (100km/h)  Pred: Speed limit (100km/h)\n",
      "\n",
      "1.00   Speed limit (100km/h)\n",
      "0.00   Speed limit (80km/h)\n",
      "0.00   Speed limit (120km/h)\n",
      "0.00   Speed limit (30km/h)\n",
      "0.00   Roundabout mandatory\n",
      "\n",
      "2) Real: Turn left ahead  Pred: Turn left ahead\n",
      "\n",
      "1.00   Turn left ahead\n",
      "0.00   Keep right\n",
      "0.00   General caution\n",
      "0.00   Traffic signals\n",
      "0.00   Speed limit (50km/h)\n",
      "\n",
      "3) Real: Speed limit (60km/h)  Pred: Speed limit (60km/h)\n",
      "\n",
      "1.00   Speed limit (60km/h)\n",
      "0.00   Speed limit (80km/h)\n",
      "0.00   Speed limit (50km/h)\n",
      "0.00   Speed limit (30km/h)\n",
      "0.00   Turn left ahead\n",
      "\n",
      "4) Real: Stop  Pred: Stop\n",
      "\n",
      "1.00   Stop\n",
      "0.00   Ahead only\n",
      "0.00   Speed limit (120km/h)\n",
      "0.00   Speed limit (80km/h)\n",
      "0.00   Roundabout mandatory\n",
      "\n",
      "5) Real: Vehicles over 3.5 metric tons prohibited  Pred: Vehicles over 3.5 metric tons prohibited\n",
      "\n",
      "1.00   Vehicles over 3.5 metric tons prohibited\n",
      "0.00   No passing\n",
      "0.00   No vehicles\n",
      "0.00   Speed limit (100km/h)\n",
      "0.00   Speed limit (30km/h)\n",
      "\n"
     ]
    }
   ],
   "source": [
    "### Print out the top five softmax probabilities for the predictions on the German traffic sign images found on the web. \n",
    "### Feel free to use as many code cells as needed.\n",
    "softmax = tf.nn.softmax(logits)\n",
    "\n",
    "with tf.Session() as sess:\n",
    "    saver.restore(sess, tf.train.latest_checkpoint('.'))\n",
    "    test_loss, test_accuracy = evaluate(X_DE_test, Y_DE_test)\n",
    "    \n",
    "    result = sess.run(softmax, feed_dict = {x : X_DE_test})\n",
    "    \n",
    "    k_var = 5\n",
    "    \n",
    "    values, indices = tf.nn.top_k(result, k_var)\n",
    "\n",
    "    probabilities = sess.run(values)\n",
    "    predictions = sess.run(indices)\n",
    "    \n",
    "    for test_img in range(5):\n",
    "        print(str(test_img+1) + \") Real: \" + signnames.iat[Y_DE_test[test_img],1],\" Pred: \" + signnames.iat[predictions[test_img, 0],1])\n",
    "        print()\n",
    "        for prob in range(k_var):\n",
    "            print(\"%0.2f\" %probabilities[test_img,prob],\" \", signnames.iat[predictions[test_img, prob],1])\n",
    "        print()"
   ]
  },
  {
   "cell_type": "markdown",
   "metadata": {},
   "source": [
    "### Project Writeup\n",
    "\n",
    "Once you have completed the code implementation, document your results in a project writeup using this [template](https://github.com/udacity/CarND-Traffic-Sign-Classifier-Project/blob/master/writeup_template.md) as a guide. The writeup can be in a markdown or pdf file. "
   ]
  },
  {
   "cell_type": "markdown",
   "metadata": {},
   "source": [
    "> **Note**: Once you have completed all of the code implementations and successfully answered each question above, you may finalize your work by exporting the iPython Notebook as an HTML document. You can do this by using the menu above and navigating to  \\n\",\n",
    "    \"**File -> Download as -> HTML (.html)**. Include the finished document along with this notebook as your submission."
   ]
  },
  {
   "cell_type": "markdown",
   "metadata": {},
   "source": [
    "---\n",
    "\n",
    "## Step 4 (Optional): Visualize the Neural Network's State with Test Images\n",
    "\n",
    " This Section is not required to complete but acts as an additional excersise for understaning the output of a neural network's weights. While neural networks can be a great learning device they are often referred to as a black box. We can understand what the weights of a neural network look like better by plotting their feature maps. After successfully training your neural network you can see what it's feature maps look like by plotting the output of the network's weight layers in response to a test stimuli image. From these plotted feature maps, it's possible to see what characteristics of an image the network finds interesting. For a sign, maybe the inner network feature maps react with high activation to the sign's boundary outline or to the contrast in the sign's painted symbol.\n",
    "\n",
    " Provided for you below is the function code that allows you to get the visualization output of any tensorflow weight layer you want. The inputs to the function should be a stimuli image, one used during training or a new one you provided, and then the tensorflow variable name that represents the layer's state during the training process, for instance if you wanted to see what the [LeNet lab's](https://classroom.udacity.com/nanodegrees/nd013/parts/fbf77062-5703-404e-b60c-95b78b2f3f9e/modules/6df7ae49-c61c-4bb2-a23e-6527e69209ec/lessons/601ae704-1035-4287-8b11-e2c2716217ad/concepts/d4aca031-508f-4e0b-b493-e7b706120f81) feature maps looked like for it's second convolutional layer you could enter conv2 as the tf_activation variable.\n",
    "\n",
    "For an example of what feature map outputs look like, check out NVIDIA's results in their paper [End-to-End Deep Learning for Self-Driving Cars](https://devblogs.nvidia.com/parallelforall/deep-learning-self-driving-cars/) in the section Visualization of internal CNN State. NVIDIA was able to show that their network's inner weights had high activations to road boundary lines by comparing feature maps from an image with a clear path to one without. Try experimenting with a similar test to show that your trained network's weights are looking for interesting features, whether it's looking at differences in feature maps from images with or without a sign, or even what feature maps look like in a trained network vs a completely untrained one on the same sign image.\n",
    "\n",
    "<figure>\n",
    " <img src=\"visualize_cnn.png\" width=\"380\" alt=\"Combined Image\" />\n",
    " <figcaption>\n",
    " <p></p> \n",
    " <p style=\"text-align: center;\"> Your output should look something like this (above)</p> \n",
    " </figcaption>\n",
    "</figure>\n",
    " <p></p> \n"
   ]
  },
  {
   "cell_type": "code",
   "execution_count": 117,
   "metadata": {},
   "outputs": [
    {
     "data": {
      "image/png": "[encoded data removed]",
      "text/plain": [
       "<matplotlib.figure.Figure at 0x7fa1807cfcf8>"
      ]
     },
     "metadata": {},
     "output_type": "display_data"
    }
   ],
   "source": [
    "### Visualize your network's feature maps here.\n",
    "### Feel free to use as many code cells as needed.\n",
    "\n",
    "# image_input: the test image being fed into the network to produce the feature maps\n",
    "# tf_activation: should be a tf variable name used during your training procedure that represents the calculated state of a specific weight layer\n",
    "# activation_min/max: can be used to view the activation contrast in more detail, by default matplot sets min and max to the actual min and max values of the output\n",
    "# plt_num: used to plot out multiple different weight feature map sets on the same block, just extend the plt number for each new feature map entry\n",
    "\n",
    "def outputFeatureMap(image_input, tf_activation, activation_min=-1, activation_max=-1 ,plt_num=1):\n",
    "    # Here make sure to preprocess your image_input in a way your network expects\n",
    "    # with size, normalization, ect if needed\n",
    "    # Note: x should be the same name as your network's tensorflow data placeholder variable\n",
    "    # If you get an error tf_activation is not defined it may be having trouble accessing the variable from inside a function\n",
    "    activation = tf_activation.eval(session=sess,feed_dict={x : image_input})\n",
    "    featuremaps = activation.shape[3]\n",
    "    plt.figure(plt_num, figsize=(15,15))\n",
    "    for featuremap in range(featuremaps):\n",
    "        plt.subplot(6,8, featuremap+1) # sets the number of feature maps to show on each row and column\n",
    "        plt.title('FeatureMap ' + str(featuremap)) # displays the feature map number\n",
    "        if activation_min != -1 & activation_max != -1:\n",
    "            plt.imshow(activation[0,:,:, featuremap], interpolation=\"nearest\", vmin =activation_min, vmax=activation_max, cmap=\"gray\")\n",
    "        elif activation_max != -1:\n",
    "            plt.imshow(activation[0,:,:, featuremap], interpolation=\"nearest\", vmax=activation_max, cmap=\"gray\")\n",
    "        elif activation_min !=-1:\n",
    "            plt.imshow(activation[0,:,:, featuremap], interpolation=\"nearest\", vmin=activation_min, cmap=\"gray\")\n",
    "        else:\n",
    "            plt.imshow(activation[0,:,:, featuremap], interpolation=\"nearest\", cmap=\"gray\")\n",
    "        \n",
    "        plt.savefig('examples/visualization.png',bbox_inches='tight')\n",
    "            \n",
    "\n",
    "test_DE_dir = \"GTSRB_Training/Final_Training/Images/\"\n",
    "foldername = random.choice(os.listdir(test_DE_dir))\n",
    "folder_path = os.path.join(test_DE_dir, foldername)\n",
    "filename = random.choice(os.listdir(folder_path))\n",
    "img = cv2.imread(os.path.join(folder_path,filename))\n",
    "if img is not None:\n",
    "    img = cv2.resize(img, (32, 32))\n",
    "    img = cv2.cvtColor(img, cv2.COLOR_RGB2GRAY)\n",
    "    img = img.reshape(1,32,32,1)\n",
    "    img = ((img/255.0) - 0.5)\n",
    "    img = img.astype(np.float32, copy=False)\n",
    "    plt.figure(figsize=(2,2))\n",
    "    plt.imshow(img.squeeze())\n",
    "    plt.savefig('examples/visualization_image.png')"
   ]
  },
  {
   "cell_type": "code",
   "execution_count": 118,
   "metadata": {},
   "outputs": [
    {
     "data": {
      "image/png": "[encoded data removed]",
      "text/plain": [
       "<matplotlib.figure.Figure at 0x7fa18078de10>"
      ]
     },
     "metadata": {},
     "output_type": "display_data"
    }
   ],
   "source": [
    "if img is not None:    \n",
    "    with tf.Session() as sess:\n",
    "        new_saver = tf.train.import_meta_graph('traffic_sign.meta')\n",
    "        new_saver.restore(sess, tf.train.latest_checkpoint('.'))\n",
    "        Conv1 = tf.get_default_graph().get_tensor_by_name(\"Conv_1:0\")\n",
    "        outputFeatureMap(img,Conv1)\n",
    "        Conv2 = tf.get_default_graph().get_tensor_by_name(\"Conv_2:0\")\n",
    "        outputFeatureMap(img,Conv2)"
   ]
  },
  {
   "cell_type": "code",
   "execution_count": null,
   "metadata": {
    "collapsed": true
   },
   "outputs": [],
   "source": []
  }
 ],
 "metadata": {
  "anaconda-cloud": {},
  "kernelspec": {
   "display_name": "Python 3",
   "language": "python",
   "name": "python3"
  },
  "language_info": {
   "codemirror_mode": {
    "name": "ipython",
    "version": 3
   },
   "file_extension": ".py",
   "mimetype": "text/x-python",
   "name": "python",
   "nbconvert_exporter": "python",
   "pygments_lexer": "ipython3",
   "version": "3.5.2"
  },
  "widgets": {
   "state": {},
   "version": "1.1.2"
  }
 },
 "nbformat": 4,
 "nbformat_minor": 1
}
